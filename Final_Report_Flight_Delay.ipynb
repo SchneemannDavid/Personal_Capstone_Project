{
 "cells": [
  {
   "cell_type": "markdown",
   "id": "e3403e29",
   "metadata": {},
   "source": [
    "# Predicting Delays for US Flights"
   ]
  },
  {
   "cell_type": "markdown",
   "id": "0d2356e2",
   "metadata": {},
   "source": [
    "by David Schneemann"
   ]
  },
  {
   "cell_type": "markdown",
   "id": "03f2dee1",
   "metadata": {},
   "source": [
    "## Project Goal"
   ]
  },
  {
   "cell_type": "markdown",
   "id": "33b905ed",
   "metadata": {},
   "source": [
    "My goal with this project is to identify key drivers of flight delays and to provide insight into why and how these factors influence flight delays. With this information and the following recommendations, we can have a better understanding of how to avoid booking flights in the future that have a strong likelihood of producing delays. "
   ]
  },
  {
   "cell_type": "markdown",
   "id": "f7600c4a",
   "metadata": {},
   "source": [
    "## Project Description"
   ]
  },
  {
   "cell_type": "markdown",
   "id": "c38607fc",
   "metadata": {},
   "source": [
    "In the US, there are over 45,000 flights happening each and every day. At any given time, there are over 5000 flights in the sky at once. These vast quantities underline the importance of maintaining flights that have minimal issues and delays. However, delays do happen on a regular basis. The question is, can we predict when, where, and for how long those delays will be in the future?\n",
    "\n",
    "In order to more accurately predict flight delays, we will analyze the attributes (features) of flights within a predetermined set of data. This dataset includes all US flights conducted during the year 2007. \n",
    "We will then develop models for predicting flight delays based on these attributes and provide recommendations and predictions for improving prediction of delays moving forward."
   ]
  },
  {
   "cell_type": "markdown",
   "id": "3606b4b6",
   "metadata": {},
   "source": [
    "## Executive Summary"
   ]
  },
  {
   "cell_type": "markdown",
   "id": "79936850",
   "metadata": {},
   "source": [
    "Summarayyyyy"
   ]
  },
  {
   "cell_type": "markdown",
   "id": "3959daad",
   "metadata": {},
   "source": [
    "-----------------------------------------------------------------------------------------------------------\n",
    "## Initial Questions"
   ]
  },
  {
   "cell_type": "markdown",
   "id": "756eb326",
   "metadata": {},
   "source": [
    "#### 1. Do flights in August have higher average flight delays than other months? \n",
    "\n",
    "#### 2. Do flights on Thursdays have higher average flight delays than other days?\n",
    "\n",
    "#### 3. Does JetBlue Airways have greater flight delays than other carriers' national average?\n",
    "\n",
    "#### 4. Does Detroit airport have greater flight delays than all other airports' average delay?\n",
    "\n",
    "#### 5. Does total_time_diff have a relationship to flight delay?"
   ]
  },
  {
   "cell_type": "markdown",
   "id": "582a38b1",
   "metadata": {},
   "source": [
    "-----------------------------------------------------------------------------------------------------------\n",
    "## Data Dictionary"
   ]
  },
  {
   "cell_type": "markdown",
   "id": "b5c28e7c",
   "metadata": {},
   "source": [
    "In order to effectively meet our goals, the following module imports are required. \\\n",
    "Below is an extensive list of all modules I imported and used to create and complete the desired analysis."
   ]
  },
  {
   "cell_type": "code",
   "execution_count": 1,
   "id": "fc9de8a5",
   "metadata": {},
   "outputs": [],
   "source": [
    "import warnings\n",
    "warnings.filterwarnings(\"ignore\")\n",
    "\n",
    "import pandas as pd\n",
    "import numpy as np\n",
    "import matplotlib.pyplot as plt\n",
    "import seaborn as sns\n",
    "from math import sqrt\n",
    "from datetime import timedelta, datetime\n",
    "import csv\n",
    "\n",
    "from sklearn.model_selection import train_test_split\n",
    "from sklearn.feature_selection import SelectKBest, RFE, f_regression, SequentialFeatureSelector\n",
    "from sklearn.linear_model import LinearRegression, LassoLars, TweedieRegressor\n",
    "from scipy import stats\n",
    "import sklearn.preprocessing\n",
    "from sklearn.metrics import mean_squared_error\n",
    "from scipy.stats import stats, pearsonr, spearmanr, kruskal, levene\n",
    "\n",
    "from env import user, password, host\n",
    "import flight_delay_acquire\n",
    "import flight_delay_prepare\n",
    "import explore\n",
    "import scale"
   ]
  },
  {
   "cell_type": "markdown",
   "id": "bc4562c2",
   "metadata": {},
   "source": [
    "|Index| Variable         | Variable descriptions                                                |\n",
    "|---:|:------------------|:---------------------------------------------------------------------|\n",
    "|  1 | Name              | Description                                                          |\n",
    "|  2 | Year              | 2007                                                                 |\n",
    "|  3 | Month             | Month of the year                                                    |\n",
    "|  4 | dayofmonth        | 31-Jan                                                               |\n",
    "|  5 | dayofweek         | 1 (Monday) - 7 (Sunday)                                              |\n",
    "|  6 | depart            | Actual departure time (local, hhmm)                                  |\n",
    "|  7 | scheduled_depart  | Scheduled departure time (local, hhmm)                               |\n",
    "|  8 | arrive            | Actual arrival time (local, hhmm)                                    |\n",
    "|  9 | scheduled_arrive  | Scheduled arrival time (local, hhmm)                                 |\n",
    "| 10 | UniqueCarrier     | Unique carrier code                                                  |\n",
    "| 11 | FlightNum         | Flight number                                                        |\n",
    "| 12 | TailNum           | Plane tail number                                                    |\n",
    "| 13 | total_time        | Total actual time from departure to arrival (in minutes)             |\n",
    "| 14 | scheduled_total_time    | Total scheduled time from departure to arrival (in minutes)    |\n",
    "| 15 | AirTime           | Total time in air (in minutes)                                                           |\n",
    "| 16 | ArrDelay          | Arrival delay, in minutes                                            |\n",
    "| 17 | DepDelay          | Departure delay, in minutes                                          |\n",
    "| 18 | Origin            | Origin IATA airport code                                             |\n",
    "| 19 | Dest              | Destination IATA airport code                                        |\n",
    "| 20 | Distance          | in miles                                                             |\n",
    "| 21 | TaxiIn            | Taxi in time, in minutes                                             |\n",
    "| 22 | TaxiOut           | Taxi out time in minutes                                             |\n",
    "| 23 | Cancelled         | Was the flight cancelled?                                            |\n",
    "| 25 | Diverted          | 1 = yes, 0 = no                                                      |\n",
    "| 26 | CarrierDelay      | in minutes                                                           |\n",
    "| 27 | WeatherDelay      | in minutes                                                           |\n",
    "| 28 | NASDelay          | National Aviation System (in minutes)                                |\n",
    "| 29 | SecurityDelay     | in minutes                                                           |\n",
    "| 30 | LateAircraftDelay | in minutes                                                           |\n",
    "| 31 | total_delay       | Total Delay (Arrival + Departure delays)                             |\n",
    "| 32 | total_time_diff   | Difference between actual total time and scheduled total time        |"
   ]
  },
  {
   "cell_type": "markdown",
   "id": "ec2e9ef6",
   "metadata": {},
   "source": [
    "## Acquire Flight Data"
   ]
  },
  {
   "cell_type": "markdown",
   "id": "9ec9ebc5",
   "metadata": {},
   "source": [
    "##### We acquire our data by utilizing my acquire.py file.\n",
    "This file pulls my selected features from the 2007.csv. \\\n",
    "Our resulting dataset returns 7,453,215 entries of data with the following attributes."
   ]
  },
  {
   "cell_type": "code",
   "execution_count": 2,
   "id": "3a2ecc85",
   "metadata": {},
   "outputs": [],
   "source": [
    "# Calling my acquire.py file and utilizing its function,assigning the output to df\n",
    "df = flight_delay_acquire.wrangle_flight_delay()"
   ]
  },
  {
   "cell_type": "markdown",
   "id": "e4654321",
   "metadata": {},
   "source": [
    "## Prepare Flight Data"
   ]
  },
  {
   "cell_type": "markdown",
   "id": "3ee4d424",
   "metadata": {},
   "source": [
    "##### We prepare our data by utilizing my prepare.py file.\n",
    "This file:\n",
    "- Handles null values\n",
    "    - These null values represented roughly 2% of our data, so I chose to drop these rows\n",
    "- Converts some variables to integers for optimization\n",
    "- Handles outliers\n",
    "- Cleans variables, including dropping `Diverted` and renaming columns\n",
    "- Includes feature engineering for multiple variables\n",
    "- Splits prepared df into train, validate, test, and associated dfs on x and y\n",
    "\n",
    "Our resulting dataframes are ready for exploration and evaluation."
   ]
  },
  {
   "cell_type": "code",
   "execution_count": 3,
   "id": "94fce66c",
   "metadata": {},
   "outputs": [],
   "source": [
    "# Calling my prepare function and assigning the output to the following variables\n",
    "df, train, validate, test, x_train, y_train, x_validate, y_validate, x_test, y_test = flight_delay_prepare.prep_flight_delay(df)"
   ]
  },
  {
   "cell_type": "code",
   "execution_count": 4,
   "id": "7b752499",
   "metadata": {},
   "outputs": [
    {
     "name": "stdout",
     "output_type": "stream",
     "text": [
      "Total df shape: (7275288, 56).\n",
      "Train shape: (4074161, 56).\n",
      "Validate shape: (1746069, 56).\n",
      "Test shape: (1455058, 56).\n"
     ]
    }
   ],
   "source": [
    "# Checking shape on our samples to confirm appropriate split\n",
    "print('Total df shape: {}.'.format(df.shape))\n",
    "print('Train shape: {}.'.format(train.shape))\n",
    "print('Validate shape: {}.'.format(validate.shape))\n",
    "print('Test shape: {}.'.format(test.shape))"
   ]
  },
  {
   "cell_type": "markdown",
   "id": "75b89b11",
   "metadata": {},
   "source": [
    "## Set the Data Context"
   ]
  },
  {
   "cell_type": "markdown",
   "id": "ab16efb7",
   "metadata": {},
   "source": [
    "#### Note: Not all visuals, analysis, and work is shown within this Final Report. \n",
    "#### All my work, from start to finish, is available in my `working_notebook.ipynb` file for your reference."
   ]
  },
  {
   "cell_type": "markdown",
   "id": "b01961c2",
   "metadata": {},
   "source": [
    "Our acquired and prepared dataset contains information for 7,275,288 flights throughout 2007. \\\n",
    "    In the process of exploring this data and setting initial hypotheses, I created a figure plotting choice categorical and continuous variables with our target variable of `total_delay`. Using this figure I determined potential relationships with each of the features stated in my initial hypotheses. The following exploration seeks to answer these questions."
   ]
  },
  {
   "cell_type": "markdown",
   "id": "5135c1de",
   "metadata": {},
   "source": [
    "-----------------------------------------------------------------------------------------------------------\n",
    "## Exploratory Analysis\n",
    "I now take each of my initial hypotheses in turn, answering them using visualizations and statistical analysis. \\\n",
    "I utilize an `explore.py` file in order to abstract repetitive code away from this Final Report. "
   ]
  },
  {
   "cell_type": "markdown",
   "id": "458a2164",
   "metadata": {},
   "source": [
    "### 1. Do flights in August have higher average flight delays than other months? \n",
    "\n",
    "- Ho = August flights avg total_delay <= average annual total_delay\n",
    "- Ha = August flights avg total_delay > average annual total_delay"
   ]
  },
  {
   "cell_type": "code",
   "execution_count": 5,
   "id": "d864e256",
   "metadata": {},
   "outputs": [
    {
     "data": {
      "image/png": "[encoded data removed]",
      "text/plain": [
       "<Figure size 432x288 with 1 Axes>"
      ]
     },
     "metadata": {
      "needs_background": "light"
     },
     "output_type": "display_data"
    },
    {
     "data": {
      "image/png": "[encoded data removed]",
      "text/plain": [
       "<Figure size 432x288 with 1 Axes>"
      ]
     },
     "metadata": {
      "needs_background": "light"
     },
     "output_type": "display_data"
    },
    {
     "data": {
      "image/png": "[encoded data removed]",
      "text/plain": [
       "<Figure size 432x288 with 1 Axes>"
      ]
     },
     "metadata": {
      "needs_background": "light"
     },
     "output_type": "display_data"
    }
   ],
   "source": [
    "# Calling explore.py; applying plot function to 'Month' and 'total_delay'\n",
    "explore.plot_categorical_and_continuous_vars(train, 'Month', 'total_delay')"
   ]
  },
  {
   "cell_type": "markdown",
   "id": "59fe1ae8",
   "metadata": {},
   "source": [
    "#### Statistical Analysis"
   ]
  },
  {
   "cell_type": "code",
   "execution_count": 6,
   "id": "79270cd7",
   "metadata": {},
   "outputs": [
    {
     "name": "stdout",
     "output_type": "stream",
     "text": [
      "statistic by levenes test: 5893.890833992634, p-value: 0.0, alpha: 0.05\n",
      "We reject Ho\n"
     ]
    }
   ],
   "source": [
    "# Performing Levene's Test to determine whether variance is equal or not\n",
    "alpha = 0.05\n",
    "December = train[train['Month'] == 12].total_delay\n",
    "overall_mean = train.total_delay\n",
    "\n",
    "stat,p = levene(December, overall_mean, center= 'mean')\n",
    "\n",
    "print(f'statistic by levenes test: {stat}, p-value: {p}, alpha: {alpha}')\n",
    "\n",
    "if p > alpha:\n",
    "    print(\"We fail to reject Ho\")\n",
    "else:\n",
    "    print(\"We reject Ho\")"
   ]
  },
  {
   "cell_type": "code",
   "execution_count": 7,
   "id": "074bf2ba",
   "metadata": {},
   "outputs": [
    {
     "name": "stdout",
     "output_type": "stream",
     "text": [
      "t-statistic by one-sample t-test: 36.23898056899004, p-value: 4.9499434899979726e-287, alpha: 0.05\n",
      "We reject Ho\n"
     ]
    }
   ],
   "source": [
    "# Use the scipy stats function one-sample t-test to calculate p-value\n",
    "August = train[train['Month'] == 8].total_delay\n",
    "alpha = 0.05\n",
    "\n",
    "delay_sample = August\n",
    "overall_mean = train[train['Month'] != 8].groupby(by=['Month']).total_delay.mean().mean()\n",
    "\n",
    "\n",
    "t, p = stats.ttest_1samp(delay_sample, overall_mean)\n",
    "\n",
    "print(f't-statistic by one-sample t-test: {t}, p-value: {p}, alpha: {alpha}')\n",
    "\n",
    "if p/2 > alpha:\n",
    "    print(\"We fail to reject Ho\")\n",
    "elif t < 0:\n",
    "    print(\"We fail to reject Ho\")\n",
    "else:\n",
    "    print(\"We reject Ho\")\n"
   ]
  },
  {
   "cell_type": "markdown",
   "id": "77f27a97",
   "metadata": {},
   "source": [
    "#### Answer 1 : Yes, from our visualizations and statistical analysis, we can express confidence that August flights have higher average flight delays than other months' average delay.\n",
    "Following our statistical test, we indicate that this feature appears to show a strong relationship with total_delay, meaning that there is statistical significance behind the claim that average delay in August relates to total_delay. Thus we move forward with this feature."
   ]
  },
  {
   "cell_type": "markdown",
   "id": "a8c3fe31",
   "metadata": {},
   "source": [
    "-----------------------------------------------------------------------------------------------------------\n",
    "### 2. Do flights on Thursday have higher average flight delays than other days?\n",
    "- Ho = Thursday flights avg total_delay <= average annual total_delay\n",
    "- Ha = Thursday flights avg total_delay > average annual total_delay"
   ]
  },
  {
   "cell_type": "code",
   "execution_count": 8,
   "id": "b23ce709",
   "metadata": {},
   "outputs": [
    {
     "data": {
      "image/png": "[encoded data removed]",
      "text/plain": [
       "<Figure size 432x288 with 1 Axes>"
      ]
     },
     "metadata": {
      "needs_background": "light"
     },
     "output_type": "display_data"
    },
    {
     "data": {
      "image/png": "[encoded data removed]",
      "text/plain": [
       "<Figure size 432x288 with 1 Axes>"
      ]
     },
     "metadata": {
      "needs_background": "light"
     },
     "output_type": "display_data"
    },
    {
     "data": {
      "image/png": "[encoded data removed]",
      "text/plain": [
       "<Figure size 432x288 with 1 Axes>"
      ]
     },
     "metadata": {
      "needs_background": "light"
     },
     "output_type": "display_data"
    }
   ],
   "source": [
    "# Calling explore.py; applying plot function to 'weekday' and 'total_delay'\n",
    "explore.plot_categorical_and_continuous_vars(train, 'weekday', 'total_delay')"
   ]
  },
  {
   "cell_type": "code",
   "execution_count": 9,
   "id": "fb9472de",
   "metadata": {},
   "outputs": [
    {
     "name": "stdout",
     "output_type": "stream",
     "text": [
      "statistic by levenes test: 1621.8496496968548, p-value: 0.0, alpha: 0.05\n",
      "We reject Ho\n"
     ]
    }
   ],
   "source": [
    "# Performing Levene's Test to determine whether variance is equal or not\n",
    "Thursday = train[train['weekday'] == 4].total_delay\n",
    "overall_mean = train.total_delay\n",
    "\n",
    "stat,p = levene(Thursday, overall_mean, center= 'mean')\n",
    "\n",
    "print(f'statistic by levenes test: {stat}, p-value: {p}, alpha: {alpha}')\n",
    "\n",
    "if p > alpha:\n",
    "    print(\"We fail to reject Ho\")\n",
    "else:\n",
    "    print(\"We reject Ho\")"
   ]
  },
  {
   "cell_type": "code",
   "execution_count": 10,
   "id": "ea10014b",
   "metadata": {},
   "outputs": [
    {
     "name": "stdout",
     "output_type": "stream",
     "text": [
      "t-statistic by one-sample t-test: 47.28395107366056, p-value: 0.0, alpha: 0.05\n",
      "We reject Ho\n"
     ]
    }
   ],
   "source": [
    "# Use the scipy stats function one-sample t-test to calculate p-value\n",
    "Thursday = train[train.weekday == 4].total_delay\n",
    "alpha = 0.05\n",
    "\n",
    "\n",
    "delay_sample = Thursday\n",
    "overall_mean = train[train['weekday'] != 4].groupby(by=['weekday']).total_delay.mean().mean()\n",
    "\n",
    "t, p = stats.ttest_1samp(delay_sample, overall_mean)\n",
    "\n",
    "print(f't-statistic by one-sample t-test: {t}, p-value: {p}, alpha: {alpha}')\n",
    "\n",
    "if p/2 > alpha:\n",
    "    print(\"We fail to reject Ho\")\n",
    "elif t < 0:\n",
    "    print(\"We fail to reject Ho\")\n",
    "else:\n",
    "    print(\"We reject Ho\")"
   ]
  },
  {
   "cell_type": "markdown",
   "id": "aa0b9011",
   "metadata": {},
   "source": [
    "#### Answer 2: Yes, from our visualizations and statistical analysis, we can express confidence that Thursday flights have higher average flight delays than other weekdays' average delay.\n",
    "Following our statistical test, we indicate that this feature appears to show a strong relationship with total_delay, meaning that there is statistical significance behind the claim that average delay on Thursdays relates to total_delay. Thus we move forward with this feature."
   ]
  },
  {
   "cell_type": "markdown",
   "id": "e84dd603",
   "metadata": {},
   "source": [
    "-----------------------------------------------------------------------------------------------------------\n",
    "### 3. Does JetBlue Airways have greater flight delays than other carriers' national average?\n",
    "\n",
    "- Ho = JetBlue Airways flights avg total_delay <= average carrier total_delay\n",
    "- Ha = JetBlue Airways flights avg total_delay > average carrier total_delay"
   ]
  },
  {
   "cell_type": "code",
   "execution_count": 11,
   "id": "48a3a756",
   "metadata": {},
   "outputs": [
    {
     "data": {
      "image/png": "[encoded data removed]",
      "text/plain": [
       "<Figure size 432x288 with 1 Axes>"
      ]
     },
     "metadata": {
      "needs_background": "light"
     },
     "output_type": "display_data"
    },
    {
     "data": {
      "image/png": "[encoded data removed]",
      "text/plain": [
       "<Figure size 432x288 with 1 Axes>"
      ]
     },
     "metadata": {
      "needs_background": "light"
     },
     "output_type": "display_data"
    },
    {
     "data": {
      "image/png": "[encoded data removed]",
      "text/plain": [
       "<Figure size 432x288 with 1 Axes>"
      ]
     },
     "metadata": {
      "needs_background": "light"
     },
     "output_type": "display_data"
    }
   ],
   "source": [
    "# Calling explore.py; applying plot function to 'UniqueCarrier' and 'total_delay'\n",
    "explore.plot_categorical_and_continuous_vars(train, 'UniqueCarrier', 'total_delay')"
   ]
  },
  {
   "cell_type": "code",
   "execution_count": 12,
   "id": "0fc600f5",
   "metadata": {},
   "outputs": [
    {
     "name": "stdout",
     "output_type": "stream",
     "text": [
      "statistic by levenes test: 5067.159804328879, p-value: 0.0, alpha: 0.05\n",
      "We reject Ho\n"
     ]
    }
   ],
   "source": [
    "# Performing Levene's Test to determine whether variance is equal or not\n",
    "JetBlue = train[train['UniqueCarrier'] == 'B6'].total_delay\n",
    "overall_mean = train.total_delay\n",
    "\n",
    "stat,p = levene(JetBlue, overall_mean, center= 'mean')\n",
    "\n",
    "print(f'statistic by levenes test: {stat}, p-value: {p}, alpha: {alpha}')\n",
    "\n",
    "if p > alpha:\n",
    "    print(\"We fail to reject Ho\")\n",
    "else:\n",
    "    print(\"We reject Ho\")"
   ]
  },
  {
   "cell_type": "code",
   "execution_count": 13,
   "id": "9e069dc4",
   "metadata": {},
   "outputs": [
    {
     "name": "stdout",
     "output_type": "stream",
     "text": [
      "t-statistic by one-sample t-test: 30.343452797021186, p-value: 2.2875912358663617e-201, alpha: 0.05\n",
      "We reject Ho\n"
     ]
    }
   ],
   "source": [
    "# Use the scipy stats function one-sample t-test to calculate p-value\n",
    "JetBlue = train[train.UniqueCarrier == 'B6'].total_delay\n",
    "alpha = 0.05\n",
    "\n",
    "delay_sample = JetBlue\n",
    "overall_mean = train[train['UniqueCarrier'] != 'B6'].groupby(by=['UniqueCarrier']).total_delay.mean().mean()\n",
    "\n",
    "t, p = stats.ttest_1samp(delay_sample, overall_mean)\n",
    "\n",
    "print(f't-statistic by one-sample t-test: {t}, p-value: {p}, alpha: {alpha}')\n",
    "\n",
    "if p > alpha:\n",
    "    print(\"We fail to reject Ho\")\n",
    "elif t < 0:\n",
    "    print(\"We fail to reject Ho\")\n",
    "else:\n",
    "    print(\"We reject Ho\")"
   ]
  },
  {
   "cell_type": "markdown",
   "id": "753c642c",
   "metadata": {},
   "source": [
    "#### Answer 3: Yes, from our visualizations and statistical analysis, we can express confidence that JetBlue Airways flights have higher average flight delays than other airlines' average delay.\n",
    "Following our statistical test, we indicate that this feature appears to show a strong relationship with total_delay, meaning that there is statistical significance behind the claim that average delay JetBlue flights relates to total_delay. Thus we move forward with this feature."
   ]
  },
  {
   "cell_type": "markdown",
   "id": "6a31a34a",
   "metadata": {},
   "source": [
    "-----------------------------------------------------------------------------------------------------------\n",
    "### 4. Does Detroit airport have greater flight delays than all other airports' average delay?\n",
    "- Ho = Flights out of Detroit airport avg total_delay <= all other airports' average total_delay\n",
    "- Ha = Flights out of Detroit airport avg total_delay > all other airports' average total_delay"
   ]
  },
  {
   "cell_type": "code",
   "execution_count": 14,
   "id": "1c97040f",
   "metadata": {},
   "outputs": [
    {
     "data": {
      "image/png": "[encoded data removed]",
      "text/plain": [
       "<Figure size 432x288 with 1 Axes>"
      ]
     },
     "metadata": {
      "needs_background": "light"
     },
     "output_type": "display_data"
    },
    {
     "data": {
      "image/png": "[encoded data removed]",
      "text/plain": [
       "<Figure size 432x288 with 1 Axes>"
      ]
     },
     "metadata": {
      "needs_background": "light"
     },
     "output_type": "display_data"
    },
    {
     "data": {
      "image/png": "[encoded data removed]",
      "text/plain": [
       "<Figure size 432x288 with 1 Axes>"
      ]
     },
     "metadata": {
      "needs_background": "light"
     },
     "output_type": "display_data"
    }
   ],
   "source": [
    "# Calling explore.py; applying plot function to 'Origin' and 'total_delay'\n",
    "explore.plot_categorical_and_continuous_vars(train, 'Origin', 'total_delay')"
   ]
  },
  {
   "cell_type": "code",
   "execution_count": 15,
   "id": "047208af",
   "metadata": {},
   "outputs": [
    {
     "name": "stdout",
     "output_type": "stream",
     "text": [
      "statistic by levenes test: 214.11242774200724, p-value: 1.745402371147923e-48, alpha: 0.05\n",
      "We reject Ho\n"
     ]
    }
   ],
   "source": [
    "# Performing Levene's Test to determine whether variance is equal or not\n",
    "Detroit = train[train.Origin == 'DTW'].total_delay\n",
    "overall_mean = train.total_delay\n",
    "\n",
    "stat,p = levene(Detroit, overall_mean, center= 'mean')\n",
    "\n",
    "print(f'statistic by levenes test: {stat}, p-value: {p}, alpha: {alpha}')\n",
    "\n",
    "if p > alpha:\n",
    "    print(\"We fail to reject Ho\")\n",
    "else:\n",
    "    print(\"We reject Ho\")"
   ]
  },
  {
   "cell_type": "code",
   "execution_count": 16,
   "id": "da9e5846",
   "metadata": {},
   "outputs": [
    {
     "name": "stdout",
     "output_type": "stream",
     "text": [
      "t-statistic by one-sample t-test: 17.10281599688487, p-value: 1.7673598340865783e-65, alpha: 0.05\n",
      "We reject Ho\n"
     ]
    }
   ],
   "source": [
    "# Use the scipy stats function one-sample t-test to calculate p-value\n",
    "Detroit = train[train.Origin == 'DTW'].total_delay\n",
    "alpha = 0.05\n",
    "\n",
    "delay_sample = Detroit\n",
    "overall_mean = train[train['Origin'] != 'DTW'].groupby(by=['Origin']).total_delay.mean().mean()\n",
    "\n",
    "t, p = stats.ttest_1samp(delay_sample, overall_mean)\n",
    "\n",
    "print(f't-statistic by one-sample t-test: {t}, p-value: {p}, alpha: {alpha}')\n",
    "\n",
    "if p/2 > alpha:\n",
    "    print(\"We fail to reject Ho\")\n",
    "elif t < 0:\n",
    "    print(\"We fail to reject Ho\")\n",
    "else:\n",
    "    print(\"We reject Ho\")"
   ]
  },
  {
   "cell_type": "markdown",
   "id": "0865ed62",
   "metadata": {},
   "source": [
    "#### Answer 4: Yes, from our visualizations and statistical analysis, we can express confidence that Detroit flights have higher average flight delays than all other airports' average delay.\n",
    "Following our statistical test, we indicate that this feature appears to show a strong relationship with total_delay, meaning that there is statistical significance behind the claim that average delay at Detroit airport relates to total_delay. Thus we move forward with this feature."
   ]
  },
  {
   "cell_type": "markdown",
   "id": "f437bfde",
   "metadata": {},
   "source": [
    "-----------------------------------------------------------------------------------------------------------\n",
    "### 5. Does total_time_diff have a relationship to flight delay?\n",
    "- Ho = More total_time_diff translates to <= total_delay \n",
    "- Ha = More total_time_diff translates to > total_delay"
   ]
  },
  {
   "cell_type": "code",
   "execution_count": 17,
   "id": "6fdd06fa",
   "metadata": {},
   "outputs": [
    {
     "data": {
      "text/plain": [
       "<Figure size 432x288 with 0 Axes>"
      ]
     },
     "metadata": {},
     "output_type": "display_data"
    },
    {
     "data": {
      "image/png": "[encoded data removed]",
      "text/plain": [
       "<Figure size 360x360 with 1 Axes>"
      ]
     },
     "metadata": {
      "needs_background": "light"
     },
     "output_type": "display_data"
    },
    {
     "data": {
      "text/plain": [
       "<Figure size 432x288 with 0 Axes>"
      ]
     },
     "metadata": {},
     "output_type": "display_data"
    },
    {
     "data": {
      "image/png": "[encoded data removed]",
      "text/plain": [
       "<Figure size 432x432 with 3 Axes>"
      ]
     },
     "metadata": {
      "needs_background": "light"
     },
     "output_type": "display_data"
    }
   ],
   "source": [
    "# Calling explore.py; applying two continuous vars plot function to 'total_time_diff' and 'total_delay'\n",
    "explore.plot_continuous_and_continuous_vars(train, 'total_time_diff', 'total_delay')"
   ]
  },
  {
   "cell_type": "code",
   "execution_count": 18,
   "id": "b7a0b324",
   "metadata": {},
   "outputs": [
    {
     "name": "stdout",
     "output_type": "stream",
     "text": [
      "Correlation Coefficient by Pearson Test: 0.23141340329024448, p-value: 0.0\n",
      "We can reject the null hypothesis\n"
     ]
    }
   ],
   "source": [
    "# Use the scipy stats function pearsonr to calculate the correlation coefficient and the p-value.\n",
    "\n",
    "r_sf, p_sf = pearsonr(train['total_time_diff'], train['total_delay'])\n",
    "\n",
    "r_sf, p_sf\n",
    "\n",
    "print(f'Correlation Coefficient by Pearson Test: {r_sf}, p-value: {p_sf}')\n",
    "\n",
    "# set alpha : 0.05\n",
    "if p_sf < 0.05:\n",
    "    print('We can reject the null hypothesis')\n",
    "else:\n",
    "    print('we cannot reject the null hypothesis')"
   ]
  },
  {
   "cell_type": "markdown",
   "id": "a7da301c",
   "metadata": {},
   "source": [
    "#### Answer 5: Yes, Difference between actual total time and scheduled total time correlates with an increase in total_delay\n",
    "Following our statistical test, we reject the null, meaning that there is statistical significance behind the claim that an increase in total_time_diff correlates with an increase in total_delay. Thus, we move forward with this feature."
   ]
  },
  {
   "cell_type": "markdown",
   "id": "899c561e",
   "metadata": {},
   "source": [
    "-----------------------------------------------------------------------------------------------------------\n",
    "## Exploration Summary: Which are the best predictors of home value?"
   ]
  },
  {
   "cell_type": "markdown",
   "id": "bdc8de1e",
   "metadata": {},
   "source": [
    "#### Key Takeaways\n",
    "##### All 5 features I explored have been shown to have a potentiaal relationship or correlation with total_delay, thus I'll move forward with these features to modeling:\n",
    "- `Month` \n",
    "- `weekday` \n",
    "- `UniqueCarrier` \n",
    "- `Origin`\n",
    "- `total_time_diff` \n",
    "\n",
    "##### In an attempt to produce the most accurate models possible, I will drop the following troublesome or extraneous features:\n",
    "- `Year`\n",
    "- `ArrDelay`\n",
    "- `DepDelay`\n",
    "- `CarrierDelay`\n",
    "- `WeatherDelay`\n",
    "- `NASDelay`\n",
    "- `SecurityDelay`\n",
    "- `LateAircraftDelay`\n",
    "- `FlightNum`\n",
    "- `TailNum`\n",
    "- `Cancelled`\n",
    "- `Diverted`\n",
    "- `Dest`"
   ]
  },
  {
   "cell_type": "markdown",
   "id": "dda64932",
   "metadata": {},
   "source": [
    "\n",
    "#### Additional Takeaways"
   ]
  },
  {
   "cell_type": "markdown",
   "id": "4f130cac",
   "metadata": {},
   "source": [
    "##### 1. Carrier Delays appear to be most prominent and the longest on average of all delays\n",
    "\n",
    "##### 2. Certain Carriers have more Carrier Delays than others; Carriers with highest delays:\n",
    "    - JetBlue Airways\n",
    "    - American Airlines (may be due to number of flights comparatively)\n",
    "    - Envoy Air\n",
    "\n",
    "##### 3. It appears airlines regularly include extra scheduled flight time\n",
    "    - Even with small delays, pilots are usually able to make up time in the air, thus:\n",
    "        - Departure Delays seem to be greater than Arrival Delays on average\n",
    "        - Even if departure delays occur, on average, flights are able to diminish this delay by reducing flight time\n",
    "\n",
    "##### 4. The difference in actual total time of a flight and total scheduled time has a negative correlation with weekends and Mondays. Could be indicator of a cultural/human phenomenon where people move faster because they want to finish the job and get home.\n",
    "\n",
    "##### 5. Despite Southwest conducting the most flights of any carrier, I can be confident in stating that they are able to maintain an average flight delay as good or better than the national carrier average"
   ]
  },
  {
   "cell_type": "markdown",
   "id": "f3baf181",
   "metadata": {},
   "source": [
    "-----------------------------------------------------------------------------------------------------------\n",
    "## Predicting Total Flight Delay\n",
    "In fitting and evaluating models on our data, the metric we choose to use to evaluate is root mean square error (RMSE). This allows us to compare the mean error of a model in the actual units of our target variable, `total_delay` (in minutes). Thus, this is the most valuable metric for understanding the performance of our models."
   ]
  },
  {
   "cell_type": "markdown",
   "id": "2ca2ab3c",
   "metadata": {},
   "source": [
    "### Scaling\n",
    "I have chosen a Robust Scaler upon which to scale my data. After comparing this and other scalers, I determined Robust to provide the best results due to the presence of outliers. I call my `model.py` scaling function and assign respective variables below.\n",
    "\n",
    "Additionally, below I remove extraneous features not already removed."
   ]
  },
  {
   "cell_type": "code",
   "execution_count": 19,
   "id": "8a03712a",
   "metadata": {},
   "outputs": [],
   "source": [
    "# Dropping Month, UniqueCarrier, and weekday due to previous encoding of these variables\n",
    "train = train.drop(columns='Month', axis =1)\n",
    "validate = validate.drop(columns='Month', axis =1)\n",
    "test = test.drop(columns='Month', axis =1)\n",
    "\n",
    "train = train.drop(columns='UniqueCarrier', axis =1)\n",
    "validate = validate.drop(columns='UniqueCarrier', axis =1)\n",
    "test = test.drop(columns='UniqueCarrier', axis =1)\n",
    "\n",
    "train = train.drop(columns='weekday', axis =1)\n",
    "validate = validate.drop(columns='weekday', axis =1)\n",
    "test = test.drop(columns='weekday', axis =1)\n",
    "\n",
    "train = train.drop(columns='Origin', axis =1)\n",
    "validate = validate.drop(columns='Origin', axis =1)\n",
    "test = test.drop(columns='Origin', axis =1)"
   ]
  },
  {
   "cell_type": "code",
   "execution_count": 20,
   "id": "1a71c240",
   "metadata": {},
   "outputs": [],
   "source": [
    "# Calling our model.py; Assigning df variables to our called function, `scale_data`\n",
    "train_scaled, validate_scaled, test_scaled = scale.robust_scale_data(train, validate, test)"
   ]
  },
  {
   "cell_type": "markdown",
   "id": "071baa8e",
   "metadata": {},
   "source": [
    "#### Now that we have our data scaled, I will:\n",
    "- Split our scaled train, validate, and test on x and y"
   ]
  },
  {
   "cell_type": "code",
   "execution_count": 21,
   "id": "754430e0",
   "metadata": {},
   "outputs": [],
   "source": [
    "# Splitting train, validate, and test dfs on x and y FOR SCALED DF\n",
    "x_train_scaled = train_scaled.drop(columns=['total_delay'])\n",
    "x_validate_scaled = validate_scaled.drop(columns=['total_delay'])\n",
    "x_test_scaled = test_scaled.drop(columns=['total_delay'])\n",
    "\n",
    "y_train_scaled = train_scaled['total_delay']\n",
    "y_validate_scaled = validate_scaled['total_delay']\n",
    "y_test_scaled = test_scaled['total_delay']"
   ]
  },
  {
   "cell_type": "markdown",
   "id": "64c95694",
   "metadata": {},
   "source": [
    "#### Baseline\n",
    "In order to compare our models, I'll create a baseline from our train dataset actual home values"
   ]
  },
  {
   "cell_type": "code",
   "execution_count": 22,
   "id": "a6746df4",
   "metadata": {},
   "outputs": [
    {
     "name": "stdout",
     "output_type": "stream",
     "text": [
      "Train baseline RMSE: 73.97018296644863.\n",
      "Validation baseline RMSE: 74.29186557797719.\n",
      "Test baseline RMSE: 74.05859989363883.\n"
     ]
    }
   ],
   "source": [
    "#Establish baselines for the train and validation datasets\n",
    "baseline = train['total_delay'].mean()\n",
    "\n",
    "# Create new columns for baseline\n",
    "train['baseline'] = baseline\n",
    "validate['baseline'] = baseline\n",
    "test['baseline'] = baseline\n",
    "\n",
    "# Find RMSE for each sample\n",
    "train_rmse = sqrt(mean_squared_error(train['total_delay'], train.baseline))\n",
    "validate_rmse = sqrt(mean_squared_error(validate['total_delay'], validate.baseline))\n",
    "test_rmse = sqrt(mean_squared_error(test['total_delay'], test.baseline))\n",
    "\n",
    "print('Train baseline RMSE: {}.'.format(train_rmse))\n",
    "print('Validation baseline RMSE: {}.'.format(validate_rmse))\n",
    "print('Test baseline RMSE: {}.'.format(test_rmse))"
   ]
  },
  {
   "cell_type": "markdown",
   "id": "51a8341b",
   "metadata": {},
   "source": [
    "I'll now create:\n",
    "- `train_predictions` df for our train predictions \n",
    "- `predictions` df for our validate predictions"
   ]
  },
  {
   "cell_type": "code",
   "execution_count": 23,
   "id": "1f536e17",
   "metadata": {},
   "outputs": [],
   "source": [
    "# Creating dfs for train and validate predictions\n",
    "train_predictions = pd.DataFrame({\n",
    "    'actual': train['total_delay'],\n",
    "    'baseline': baseline\n",
    "}) \n",
    "\n",
    "predictions = pd.DataFrame({\n",
    "    'actual': validate['total_delay'],\n",
    "    'baseline': baseline\n",
    "}) "
   ]
  },
  {
   "cell_type": "markdown",
   "id": "cbb94ada",
   "metadata": {},
   "source": [
    "### Fit 3 Best Models\n",
    "- Linear Regression (`simple_lm`)\n",
    "- Lasso-Lars Regression (`lasso_lars`)\n",
    "- TweediRegressor (`glm`)"
   ]
  },
  {
   "cell_type": "markdown",
   "id": "061999de",
   "metadata": {},
   "source": [
    "#### Fitting Linear Regression"
   ]
  },
  {
   "cell_type": "code",
   "execution_count": 24,
   "id": "221279c8",
   "metadata": {},
   "outputs": [],
   "source": [
    "# Create an instance of the model and fit it to my data\n",
    "lm = LinearRegression().fit(x_train_scaled, y_train_scaled)\n",
    "\n",
    "# Predicting on train and validate and adding column to both predictions dfs \n",
    "train_predictions['simple_lm'] = lm.predict(x_train_scaled)\n",
    "predictions['simple_lm'] = lm.predict(x_validate_scaled)"
   ]
  },
  {
   "cell_type": "markdown",
   "id": "436f6b99",
   "metadata": {},
   "source": [
    "#### Fitting Lasso-Lars Regression"
   ]
  },
  {
   "cell_type": "code",
   "execution_count": 25,
   "id": "71301f96",
   "metadata": {},
   "outputs": [],
   "source": [
    "# Create the model object\n",
    "lars = LassoLars(alpha=1)\n",
    "\n",
    "# Fit the model to our training data\n",
    "lars.fit(x_train_scaled, y_train_scaled)\n",
    "\n",
    "# predict train\n",
    "train_predictions['lasso_lars'] = lars.predict(x_train_scaled)\n",
    "\n",
    "# Predict validate\n",
    "predictions['lasso_lars'] = lars.predict(x_validate_scaled)"
   ]
  },
  {
   "cell_type": "markdown",
   "id": "02aae2f7",
   "metadata": {},
   "source": [
    "#### Fitting TweediRegressor"
   ]
  },
  {
   "cell_type": "code",
   "execution_count": 26,
   "id": "ce65a5dc",
   "metadata": {},
   "outputs": [],
   "source": [
    "# Create the model object\n",
    "glm = TweedieRegressor(power=0, alpha=1)\n",
    "\n",
    "# Fit the model to our training data\n",
    "glm.fit(x_train_scaled, y_train_scaled)\n",
    "\n",
    "# predict train, add to df\n",
    "train_predictions['glm'] = glm.predict(x_train_scaled)\n",
    "\n",
    "# Predict validate, add to df\n",
    "predictions['glm'] = glm.predict(x_validate_scaled)"
   ]
  },
  {
   "cell_type": "markdown",
   "id": "4a435ae1",
   "metadata": {},
   "source": [
    "#### Evaluating Models using root mean squared error (RMSE)"
   ]
  },
  {
   "cell_type": "code",
   "execution_count": 29,
   "id": "ce340788",
   "metadata": {},
   "outputs": [
    {
     "name": "stdout",
     "output_type": "stream",
     "text": [
      "Train baseline RMSE: 73.97018296644863.\n"
     ]
    },
    {
     "data": {
      "text/plain": [
       "actual         0.000000\n",
       "simple_lm     67.511929\n",
       "glm           68.698877\n",
       "baseline      73.970183\n",
       "lasso_lars    73.970183\n",
       "dtype: float64"
      ]
     },
     "execution_count": 29,
     "metadata": {},
     "output_type": "execute_result"
    }
   ],
   "source": [
    "# Calculate root mean squared error (RMSE) for every column in the train_predictions df\n",
    "def calculate_rmse(y_predicted):\n",
    "    return sqrt(mean_squared_error(train_predictions.actual, y_predicted))\n",
    "\n",
    "print('Train baseline RMSE: {}.'.format(train_rmse))\n",
    "train_predictions.apply(calculate_rmse).sort_values()"
   ]
  },
  {
   "cell_type": "code",
   "execution_count": 30,
   "id": "b3f5bd15",
   "metadata": {
    "scrolled": true
   },
   "outputs": [
    {
     "name": "stdout",
     "output_type": "stream",
     "text": [
      "Validation baseline RMSE: 74.29186557797719.\n"
     ]
    },
    {
     "data": {
      "text/plain": [
       "actual         0.000000\n",
       "simple_lm     67.950122\n",
       "glm           69.119541\n",
       "baseline      74.291866\n",
       "lasso_lars    74.291866\n",
       "dtype: float64"
      ]
     },
     "execution_count": 30,
     "metadata": {},
     "output_type": "execute_result"
    }
   ],
   "source": [
    "# Calculate root mean squared error (RMSE) for every column in the predictions df\n",
    "def calculate_rmse(y_predicted):\n",
    "    return sqrt(mean_squared_error(predictions.actual, y_predicted))\n",
    "\n",
    "print('Validation baseline RMSE: {}.'.format(validate_rmse))\n",
    "predictions.apply(calculate_rmse).sort_values()"
   ]
  },
  {
   "cell_type": "markdown",
   "id": "570b4c9b",
   "metadata": {},
   "source": [
    "##### Model Conclusion: \n",
    "Based on comparing our train and validate predictions, we can say with confidence that Linear Regression (`simple_lm`) is our best performing model. We will now predict and evaluate this model on our test dataset"
   ]
  },
  {
   "cell_type": "markdown",
   "id": "ccf3c410",
   "metadata": {},
   "source": [
    "### Predict and Evaluate Test dataset\n",
    "Like with train and validate, I'll create a predictions df to collect predictions and then evaluate."
   ]
  },
  {
   "cell_type": "code",
   "execution_count": 31,
   "id": "e34f9ff0",
   "metadata": {},
   "outputs": [],
   "source": [
    "test_predictions = pd.DataFrame({\n",
    "    'actual': test['total_delay'],\n",
    "    'baseline': baseline\n",
    "}) "
   ]
  },
  {
   "cell_type": "code",
   "execution_count": 32,
   "id": "642117c3",
   "metadata": {},
   "outputs": [
    {
     "data": {
      "text/html": [
       "<div>\n",
       "<style scoped>\n",
       "    .dataframe tbody tr th:only-of-type {\n",
       "        vertical-align: middle;\n",
       "    }\n",
       "\n",
       "    .dataframe tbody tr th {\n",
       "        vertical-align: top;\n",
       "    }\n",
       "\n",
       "    .dataframe thead th {\n",
       "        text-align: right;\n",
       "    }\n",
       "</style>\n",
       "<table border=\"1\" class=\"dataframe\">\n",
       "  <thead>\n",
       "    <tr style=\"text-align: right;\">\n",
       "      <th></th>\n",
       "      <th>actual</th>\n",
       "      <th>baseline</th>\n",
       "      <th>simple_lm</th>\n",
       "    </tr>\n",
       "  </thead>\n",
       "  <tbody>\n",
       "    <tr>\n",
       "      <th>1949761</th>\n",
       "      <td>-30</td>\n",
       "      <td>21.516436</td>\n",
       "      <td>-2.415426</td>\n",
       "    </tr>\n",
       "    <tr>\n",
       "      <th>6855023</th>\n",
       "      <td>69</td>\n",
       "      <td>21.516436</td>\n",
       "      <td>65.013864</td>\n",
       "    </tr>\n",
       "    <tr>\n",
       "      <th>3193222</th>\n",
       "      <td>3</td>\n",
       "      <td>21.516436</td>\n",
       "      <td>36.521975</td>\n",
       "    </tr>\n",
       "    <tr>\n",
       "      <th>4269503</th>\n",
       "      <td>-13</td>\n",
       "      <td>21.516436</td>\n",
       "      <td>31.191714</td>\n",
       "    </tr>\n",
       "    <tr>\n",
       "      <th>5812076</th>\n",
       "      <td>-10</td>\n",
       "      <td>21.516436</td>\n",
       "      <td>3.027917</td>\n",
       "    </tr>\n",
       "  </tbody>\n",
       "</table>\n",
       "</div>"
      ],
      "text/plain": [
       "         actual   baseline  simple_lm\n",
       "1949761     -30  21.516436  -2.415426\n",
       "6855023      69  21.516436  65.013864\n",
       "3193222       3  21.516436  36.521975\n",
       "4269503     -13  21.516436  31.191714\n",
       "5812076     -10  21.516436   3.027917"
      ]
     },
     "execution_count": 32,
     "metadata": {},
     "output_type": "execute_result"
    }
   ],
   "source": [
    "#Create an instance of the model and fit it to my data\n",
    "lm = LinearRegression().fit(x_train_scaled, y_train_scaled)\n",
    "\n",
    "# Predict on test\n",
    "test_predictions['simple_lm'] = lm.predict(x_test_scaled)\n",
    "\n",
    "test_predictions.head()"
   ]
  },
  {
   "cell_type": "code",
   "execution_count": 33,
   "id": "1a67d0b7",
   "metadata": {},
   "outputs": [
    {
     "name": "stdout",
     "output_type": "stream",
     "text": [
      "Test baseline RMSE: 74.05859989363883.\n"
     ]
    },
    {
     "data": {
      "text/plain": [
       "actual        0.000000\n",
       "simple_lm    67.606355\n",
       "baseline     74.058600\n",
       "dtype: float64"
      ]
     },
     "execution_count": 33,
     "metadata": {},
     "output_type": "execute_result"
    }
   ],
   "source": [
    "# Calculate root mean squared error (RMSE) for the test_predictions df\n",
    "def calculate_rmse(y_predicted):\n",
    "    return sqrt(mean_squared_error(test_predictions.actual, y_predicted))\n",
    "\n",
    "print('Test baseline RMSE: {}.'.format(test_rmse))\n",
    "test_predictions.apply(calculate_rmse).sort_values()"
   ]
  },
  {
   "cell_type": "code",
   "execution_count": 34,
   "id": "8849f2c8",
   "metadata": {},
   "outputs": [],
   "source": [
    "test_result = test_predictions.apply(calculate_rmse).sort_values()"
   ]
  },
  {
   "cell_type": "code",
   "execution_count": 35,
   "id": "faa06c8a",
   "metadata": {},
   "outputs": [
    {
     "name": "stdout",
     "output_type": "stream",
     "text": [
      "The model beat baseline by: 9.11%\n"
     ]
    }
   ],
   "source": [
    "# Finding by how much my model beat baseline \n",
    "model_percent = abs((test_result['simple_lm'] - test_rmse) / ((test_result['simple_lm'] + test_rmse) / 2))\n",
    "\n",
    "print(\"The model beat baseline by: \"+\"{:.2%}\".format(model_percent))"
   ]
  },
  {
   "cell_type": "markdown",
   "id": "e87764a0",
   "metadata": {},
   "source": [
    "**Success!** \\\n",
    "From this calculation on our test dataset, we can observe that my Linear Regression model successfully beat our baseline.\n",
    "\n",
    "**Our model performs 9.11% better than baseline**"
   ]
  },
  {
   "cell_type": "markdown",
   "id": "be51e379",
   "metadata": {},
   "source": [
    "-----------------------------------------------------------------------------------------------------------\n",
    "## Conclusion"
   ]
  },
  {
   "cell_type": "markdown",
   "id": "1498f373",
   "metadata": {},
   "source": [
    "### Summary"
   ]
  },
  {
   "cell_type": "markdown",
   "id": "6c22ec97",
   "metadata": {},
   "source": [
    "In seeking solutions to more accurately predict home value for Zillow, we have explored a multiplicity of factors in the dataset that affect home value. We have shown that some potential primary drivers of home value are :\n",
    "\n",
    "- The number of bedrooms in a home\n",
    "- The number of bathrooms in a home \n",
    "- The number of garage spaces in a home\n",
    "- The location of a home by county\n",
    "- The square footage of a home\n",
    "\n",
    "The correlation of these features with home value, combined within our analysis and models, expresses confidence in the validity of our findings. We have created robust models that perform significantly better than our baseline estimated error of 270,460.\n",
    "\n",
    "Having fit the best performing model to our train, validate, and test datasets, we expect this model to perform 19.5% better than our baseline in the future on data it has not seen, given no major changes to our data source."
   ]
  },
  {
   "cell_type": "markdown",
   "id": "3acaa198",
   "metadata": {},
   "source": [
    "### Recommendations"
   ]
  },
  {
   "cell_type": "markdown",
   "id": "6fcf94f1",
   "metadata": {},
   "source": [
    "There are a number of recommendations that can be offered based on the above analysis. These suggestions are tied to the findings within our primary drivers of home value:\n",
    "\n",
    "1. Based on our exploration of bedroom and bathroom counts, collecting additional data on how many rooms are in a home, including more specific data on living spaces versus kitchens and other spaces\n",
    "2. Kitchen data, namely which major appliances and amenities are available in a given home. (ie. dishwasher, kitchen island, etc.)\n",
    "3. In collecting more nuanced data about a home, I suggest we send out email surveys prompting home owners with limited data on their home in the Zillow database to provide additional details about their residence."
   ]
  },
  {
   "cell_type": "markdown",
   "id": "eb2be0bc",
   "metadata": {},
   "source": [
    "### Next Steps"
   ]
  },
  {
   "cell_type": "markdown",
   "id": "f43426a5",
   "metadata": {},
   "source": [
    "Despite the overall effectiveness of our best-performing model, there is always room for improvement and optimization. \\\n",
    "If given more time to pursue a better results, I would begin by conducting further exploration and analysis of other features within our dataset. These features could include:\n",
    "- Whether a home has a pool\n",
    "- The square footage of the property, not just the home\n",
    "\n",
    "In addition to exploring other features, I would look into methods for more appropriately separating our data into additional housing categories. For example:\n",
    "- Calculating a ratio of home square footage against square footage of the entire property. This home to property ratio could be valuable.\n",
    "- Narrowing a home's location to pinpoint the city and specific neighborhood a home is in. \n",
    "\n",
    "By optimizing our dataset to include the above categories, I believe we could increase the correlation of our feature set with home value and improve model prediction accuracy."
   ]
  }
 ],
 "metadata": {
  "kernelspec": {
   "display_name": "Python 3.9.12 ('base')",
   "language": "python",
   "name": "python3"
  },
  "language_info": {
   "codemirror_mode": {
    "name": "ipython",
    "version": 3
   },
   "file_extension": ".py",
   "mimetype": "text/x-python",
   "name": "python",
   "nbconvert_exporter": "python",
   "pygments_lexer": "ipython3",
   "version": "3.9.12"
  },
  "vscode": {
   "interpreter": {
    "hash": "3067ead486e059ec00ffe7555bdb889e6e264a24dc711bf108106cc7baee8d5d"
   }
  }
 },
 "nbformat": 4,
 "nbformat_minor": 5
}
